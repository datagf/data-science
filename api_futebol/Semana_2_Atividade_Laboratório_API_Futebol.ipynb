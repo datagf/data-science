{
  "nbformat": 4,
  "nbformat_minor": 0,
  "metadata": {
    "colab": {
      "name": "Semana 2 - Atividade Laboratório - API Futebol",
      "provenance": [],
      "collapsed_sections": [],
      "include_colab_link": true
    },
    "kernelspec": {
      "name": "python3",
      "display_name": "Python 3"
    }
  },
  "cells": [
    {
      "cell_type": "markdown",
      "metadata": {
        "id": "view-in-github",
        "colab_type": "text"
      },
      "source": [
        "<a href=\"https://colab.research.google.com/github/DataGF/data-science/blob/master/Semana_2_Atividade_Laborat%C3%B3rio_API_Futebol.ipynb\" target=\"_parent\"><img src=\"https://colab.research.google.com/assets/colab-badge.svg\" alt=\"Open In Colab\"/></a>"
      ]
    },
    {
      "cell_type": "markdown",
      "metadata": {
        "id": "mOMBo4sIY1f1"
      },
      "source": [
        "Atividade de Laboratório \r\n",
        " \r\n",
        "### É necessário usar a biblioteca requests ### \r\n",
        " \r\n",
        "### import request ###\r\n",
        " \r\n",
        "1) Nesta atividade, você irá consultar um banco de dados com informações sobre campeonatos de futebol (Brasil) - Partidas,Times, Fases, Artilharia etc\r\n",
        " \r\n",
        "2) Será usado uma API (RESTful) para realizar as consultas\r\n",
        " \r\n",
        "3) Primeiro passo: acesse o site https://www.api-futebol.com.br/, realize seu cadastramento e tome nota da API Key para teste. Esse é o seu acess_token.\r\n",
        " \r\n",
        "4) Defina uma variável access_token no qual será atribuído o seu token. \r\n",
        " \r\n",
        "5) Passe esse valor para 'Bearer' valor da chave 'Authorization' (dica: método usado para formatar strings). Modifique a Solução de exemplo ao final. \r\n",
        " \r\n",
        "6) a variável \"results\" irá receber os resultados da consulta no formato Json. Qual o tipo dessa variável ?\r\n",
        " \r\n",
        "7) Uma vez conhecido o tipo da variável, visualize alguns conteúdos. \r\n",
        " \r\n",
        "8) Salvar o resultado em um arquivo. \r\n",
        " \r\n",
        "### Solução de exemplo - Modificar para realizar o exercício ###\r\n",
        "results = requests.get(url,headers={'Content-Type':'application/json', 'Authorization': 'Bearer #yourAccessTokenHere#'}).json()"
      ]
    },
    {
      "cell_type": "code",
      "metadata": {
        "id": "kIR3bFqRY220"
      },
      "source": [
        "import requests\r\n",
        "import json"
      ],
      "execution_count": 1,
      "outputs": []
    },
    {
      "cell_type": "code",
      "metadata": {
        "id": "nSau4jHrbDr4",
        "cellView": "code"
      },
      "source": [
        "# Definição do access token\n",
        "access_token = 'coloque_seu_access_token_aqui'"
      ],
      "execution_count": 2,
      "outputs": []
    },
    {
      "cell_type": "code",
      "metadata": {
        "id": "yqN5tqH8b_mf",
        "colab": {
          "base_uri": "https://localhost:8080/"
        },
        "outputId": "125f1b7e-b5b6-4324-df66-ab52abb16d82"
      },
      "source": [
        "# Checagem do tipo de variável (desnecessário, apenas para treinar)\r\n",
        "type(access_token)"
      ],
      "execution_count": 3,
      "outputs": [
        {
          "output_type": "execute_result",
          "data": {
            "text/plain": [
              "str"
            ]
          },
          "metadata": {
            "tags": []
          },
          "execution_count": 3
        }
      ]
    },
    {
      "cell_type": "code",
      "metadata": {
        "id": "eOQP_czbfXBK",
        "colab": {
          "base_uri": "https://localhost:8080/"
        },
        "outputId": "38fa60eb-cb33-480a-d913-b14e57f2aff1"
      },
      "source": [
        "# Definição da variável que receberá os resultados da lista de campeonatos\r\n",
        "url_lista_campeonatos = 'https://api.api-futebol.com.br/v1/campeonatos'\r\n",
        "results = requests.get(url_lista_campeonatos, headers={'Content-Type':'application/json', 'Authorization':'Bearer {}'.format(access_token)}).json()\r\n",
        "type(results)"
      ],
      "execution_count": 4,
      "outputs": [
        {
          "output_type": "execute_result",
          "data": {
            "text/plain": [
              "list"
            ]
          },
          "metadata": {
            "tags": []
          },
          "execution_count": 4
        }
      ]
    },
    {
      "cell_type": "code",
      "metadata": {
        "id": "WafMb2ezhBAK",
        "colab": {
          "base_uri": "https://localhost:8080/"
        },
        "outputId": "425a75dc-d51b-4527-f9fb-174d67061d0a"
      },
      "source": [
        "# Verificação da estrutura da lista (para visualizar melhor, utilize o site: https://jsonformatter.curiousconcept.com/)\r\n",
        "print(results)"
      ],
      "execution_count": 5,
      "outputs": [
        {
          "output_type": "stream",
          "text": [
            "[{'campeonato_id': 14, 'nome': 'Campeonato Brasileiro Série B', 'slug': 'campeonato-brasileiro-serie-b', 'nome_popular': 'Brasileirão Série B', 'edicao_atual': {'edicao_id': 10, 'temporada': '2020', 'nome': 'Campeonato Brasileiro Série B 2020', 'nome_popular': 'Brasileirão Série B 2020', 'slug': 'campeonato-brasileiro-serie-b-2020'}, 'fase_atual': {'fase_id': 56, 'nome': 'Fase Única', 'slug': None, 'tipo': 'pontos-corridos', '_link': '/v1/campeonatos/14/fases/56'}, 'rodada_atual': {'nome': '38ª Rodada', 'slug': '38a-rodada', 'rodada': 38, 'status': 'agendada'}, 'status': 'finalizado', 'tipo': 'Pontos Corridos', 'logo': 'https://api.api-futebol.com.br/images/competicao/brasileiro-serieb.png', '_link': '/v1/campeonatos/14'}]\n"
          ],
          "name": "stdout"
        }
      ]
    },
    {
      "cell_type": "code",
      "metadata": {
        "id": "NF8s4FKLiMrk",
        "colab": {
          "base_uri": "https://localhost:8080/"
        },
        "outputId": "9add82a8-9cb7-4038-9a82-47406bd5d39c"
      },
      "source": [
        "# Verificação da consistência de chaves da lista (não necessário para este caso por termos apenas a posição de index 0)\r\n",
        "for key in results:\r\n",
        "  print(key.keys())"
      ],
      "execution_count": 6,
      "outputs": [
        {
          "output_type": "stream",
          "text": [
            "dict_keys(['campeonato_id', 'nome', 'slug', 'nome_popular', 'edicao_atual', 'fase_atual', 'rodada_atual', 'status', 'tipo', 'logo', '_link'])\n"
          ],
          "name": "stdout"
        }
      ]
    },
    {
      "cell_type": "code",
      "metadata": {
        "id": "Wj0-9QXZs-n5",
        "colab": {
          "base_uri": "https://localhost:8080/"
        },
        "outputId": "d2ecabb6-6c94-4982-b879-d1266f52f4a7"
      },
      "source": [
        "# Print da lista de um dicionário com dicionários aninhados não precisa de loop\r\n",
        "print('TORNEIO: '+results[0]['nome']+', ID: '+str(results[0]['campeonato_id'])+', NOME POPULAR: '+results[0]['nome_popular']+', PONTUAÇÃO: '+results[0]['tipo']+'.')"
      ],
      "execution_count": 7,
      "outputs": [
        {
          "output_type": "stream",
          "text": [
            "TORNEIO: Campeonato Brasileiro Série B, ID: 14, NOME POPULAR: Brasileirão Série B, PONTUAÇÃO: Pontos Corridos.\n"
          ],
          "name": "stdout"
        }
      ]
    },
    {
      "cell_type": "code",
      "metadata": {
        "id": "HOqEEKKKi6HF",
        "colab": {
          "base_uri": "https://localhost:8080/"
        },
        "outputId": "37f41263-e04e-41f2-8218-ecbe8930c401"
      },
      "source": [
        "# Verificação de que o loop é dispensável nesse caso\r\n",
        "for passo in results:\r\n",
        "  print('TORNEIO: '+passo['nome']+', ID: '+str(passo['campeonato_id'])+', NOME POPULAR: '+passo['nome_popular']+', PONTUAÇÃO: '+passo['tipo']+'.')"
      ],
      "execution_count": 8,
      "outputs": [
        {
          "output_type": "stream",
          "text": [
            "TORNEIO: Campeonato Brasileiro Série B, ID: 14, NOME POPULAR: Brasileirão Série B, PONTUAÇÃO: Pontos Corridos.\n"
          ],
          "name": "stdout"
        }
      ]
    },
    {
      "cell_type": "markdown",
      "metadata": {
        "id": "W_Z-RC8_e-gW"
      },
      "source": [
        "# **DESAFIO COMPLEMENTAR**\r\n",
        "\r\n",
        "Quais são os artilheiros da Copa do Brasil?\r\n",
        "Apresente o nome, a quantidade de gols e o time de todos eles :D"
      ]
    },
    {
      "cell_type": "code",
      "metadata": {
        "id": "6MZ2TVoXe_Ky",
        "colab": {
          "base_uri": "https://localhost:8080/"
        },
        "outputId": "56403170-8f09-4571-e85c-de503f999fb6"
      },
      "source": [
        "# Definição da variável que receberá os resultados da lista de artilheiros\r\n",
        "url_lista_artilheiros = 'https://api.api-futebol.com.br/v1/campeonatos/2/artilharia'\r\n",
        "artilheiros = requests.get(url_lista_artilheiros, headers={'Content-Type':'application/json', 'Authorization':'Bearer {}'.format(access_token)}).json()\r\n",
        "type(artilheiros)"
      ],
      "execution_count": 9,
      "outputs": [
        {
          "output_type": "execute_result",
          "data": {
            "text/plain": [
              "list"
            ]
          },
          "metadata": {
            "tags": []
          },
          "execution_count": 9
        }
      ]
    },
    {
      "cell_type": "code",
      "metadata": {
        "id": "S1fKcVLAglpe",
        "colab": {
          "base_uri": "https://localhost:8080/"
        },
        "outputId": "830608a9-da22-4582-d57c-c3f77b897818"
      },
      "source": [
        "# Verificação da estrutura da lista\r\n",
        "for items in artilheiros:\r\n",
        "  print(items)"
      ],
      "execution_count": 10,
      "outputs": [
        {
          "output_type": "stream",
          "text": [
            "{'atleta': {'atleta_id': 5007, 'nome_popular': 'Caio Dantas', 'posicao': []}, 'time': {'time_id': 120, 'nome_popular': 'Sampaio Corrêa', 'escudo': 'https://apifutebol.s3.sa-east-1.amazonaws.com/escudos/5f999dd07831b.svg'}, 'gols': 17}\n",
            "{'atleta': {'atleta_id': 3139, 'nome_popular': 'Léo Ceará', 'posicao': {'nome': 'Atacante', 'sigla': 'ATA'}}, 'time': {'time_id': 102, 'nome_popular': 'Vitória', 'escudo': 'https://apifutebol.s3.sa-east-1.amazonaws.com/escudos/5f999db697241.svg'}, 'gols': 16}\n",
            "{'atleta': {'atleta_id': 1445, 'nome_popular': 'Anselmo Ramon', 'posicao': {'nome': 'Atacante', 'sigla': 'ATA'}}, 'time': {'time_id': 5, 'nome_popular': 'Chapecoense', 'escudo': 'https://apifutebol.s3.sa-east-1.amazonaws.com/escudos/5f999c82dc52e.svg'}, 'gols': 10}\n",
            "{'atleta': {'atleta_id': 5177, 'nome_popular': 'Paulo Sérgio', 'posicao': []}, 'time': {'time_id': 95, 'nome_popular': 'CSA', 'escudo': 'https://apifutebol.s3.sa-east-1.amazonaws.com/escudos/5f999dac914d4.svg'}, 'gols': 10}\n",
            "{'atleta': {'atleta_id': 5046, 'nome_popular': 'Reis', 'posicao': {'nome': 'Atacante', 'sigla': 'ATA'}}, 'time': {'time_id': 205, 'nome_popular': 'Confiança', 'escudo': 'https://apifutebol.s3.sa-east-1.amazonaws.com/escudos/5f999e45c52f1.svg'}, 'gols': 10}\n"
          ],
          "name": "stdout"
        }
      ]
    },
    {
      "cell_type": "code",
      "metadata": {
        "id": "DKWfa_PVBoB_",
        "colab": {
          "base_uri": "https://localhost:8080/"
        },
        "outputId": "49d72292-4093-409b-85a8-47c45f8ae93d"
      },
      "source": [
        "# Verificacão da consistência das chaves dos dicionários da lista\r\n",
        "for key in artilheiros:\r\n",
        "  print(key.keys())"
      ],
      "execution_count": 11,
      "outputs": [
        {
          "output_type": "stream",
          "text": [
            "dict_keys(['atleta', 'time', 'gols'])\n",
            "dict_keys(['atleta', 'time', 'gols'])\n",
            "dict_keys(['atleta', 'time', 'gols'])\n",
            "dict_keys(['atleta', 'time', 'gols'])\n",
            "dict_keys(['atleta', 'time', 'gols'])\n"
          ],
          "name": "stdout"
        }
      ]
    },
    {
      "cell_type": "code",
      "metadata": {
        "id": "hEpq6DVaSSmG",
        "colab": {
          "base_uri": "https://localhost:8080/"
        },
        "outputId": "de778876-20f5-4f06-eb3a-01eb650ab424"
      },
      "source": [
        "# Verificação do meu entendimento da estrutura da lista com print de alguns dados isolados\r\n",
        "\r\n",
        "# 1. Imprima o nome de um artilheiro\r\n",
        "artilheiro = artilheiros[0]['atleta']['nome_popular']\r\n",
        "print(artilheiro)\r\n",
        "\r\n",
        "# 2. Imprima o nome do time do artilheiro acima\r\n",
        "time = artilheiros[0]['time']['nome_popular']\r\n",
        "print(time)\r\n",
        "\r\n",
        "# 3. Imprima a quantidade de gols do artilheiro acima\r\n",
        "gols = artilheiros[0]['gols']\r\n",
        "print(gols)"
      ],
      "execution_count": 12,
      "outputs": [
        {
          "output_type": "stream",
          "text": [
            "Caio Dantas\n",
            "Sampaio Corrêa\n",
            "17\n"
          ],
          "name": "stdout"
        }
      ]
    },
    {
      "cell_type": "code",
      "metadata": {
        "id": "MJ9n6YXK3UA3",
        "colab": {
          "base_uri": "https://localhost:8080/"
        },
        "outputId": "eeb6f40e-df08-4837-a5f3-d2ccf9e90a9e"
      },
      "source": [
        "# Visualização do resultado com concatenação de valores\r\n",
        "for artilheiro in artilheiros:\r\n",
        "  print('ARTILHEIRO: '+artilheiro['atleta']['nome_popular']+', TIME: '+artilheiro['time']['nome_popular']+', GOLS: '+str(artilheiro['gols'])+'\\n')"
      ],
      "execution_count": 13,
      "outputs": [
        {
          "output_type": "stream",
          "text": [
            "ARTILHEIRO: Caio Dantas, TIME: Sampaio Corrêa, GOLS: 17\n",
            "\n",
            "ARTILHEIRO: Léo Ceará, TIME: Vitória, GOLS: 16\n",
            "\n",
            "ARTILHEIRO: Anselmo Ramon, TIME: Chapecoense, GOLS: 10\n",
            "\n",
            "ARTILHEIRO: Paulo Sérgio, TIME: CSA, GOLS: 10\n",
            "\n",
            "ARTILHEIRO: Reis, TIME: Confiança, GOLS: 10\n",
            "\n"
          ],
          "name": "stdout"
        }
      ]
    },
    {
      "cell_type": "code",
      "metadata": {
        "id": "h_rHk-AvLo-H",
        "colab": {
          "base_uri": "https://localhost:8080/"
        },
        "outputId": "0ca5b528-321c-4d21-c441-db96b059ddf1"
      },
      "source": [
        "# Visualização do resultado com método format\r\n",
        "for artilheiro in artilheiros:\r\n",
        "  print('ARTILHEIRO: {}, TIME: {}, GOLS: {}\\n'.format(artilheiro['atleta']['nome_popular'], artilheiro['time']['nome_popular'], artilheiro['gols']))"
      ],
      "execution_count": 14,
      "outputs": [
        {
          "output_type": "stream",
          "text": [
            "ARTILHEIRO: Caio Dantas, TIME: Sampaio Corrêa, GOLS: 17\n",
            "\n",
            "ARTILHEIRO: Léo Ceará, TIME: Vitória, GOLS: 16\n",
            "\n",
            "ARTILHEIRO: Anselmo Ramon, TIME: Chapecoense, GOLS: 10\n",
            "\n",
            "ARTILHEIRO: Paulo Sérgio, TIME: CSA, GOLS: 10\n",
            "\n",
            "ARTILHEIRO: Reis, TIME: Confiança, GOLS: 10\n",
            "\n"
          ],
          "name": "stdout"
        }
      ]
    },
    {
      "cell_type": "code",
      "metadata": {
        "id": "CE-5fQ6iaHY-",
        "colab": {
          "base_uri": "https://localhost:8080/",
          "height": 146
        },
        "outputId": "34d167fc-b401-4f17-bc99-d7308832bc83"
      },
      "source": [
        "# Visualização do resultado com f string (gera erro, solução abaixo)\r\n",
        "for artilheiro in artilheiros:\r\n",
        "  print(f'ARTILHEIRO: {artilheiro['atleta']['nome_popular']}, TIME: {artilheiro['time']['nome_popular']}, GOLS: {str(artilheiro['gols'])}\\n')"
      ],
      "execution_count": 15,
      "outputs": [
        {
          "output_type": "error",
          "ename": "SyntaxError",
          "evalue": "ignored",
          "traceback": [
            "\u001b[0;36m  File \u001b[0;32m\"<ipython-input-15-1dd3f22cc660>\"\u001b[0;36m, line \u001b[0;32m3\u001b[0m\n\u001b[0;31m    print(f'ARTILHEIRO: {artilheiro['atleta']['nome_popular']}, TIME: {artilheiro['time']['nome_popular']}, GOLS: {str(artilheiro['gols'])}\\n')\u001b[0m\n\u001b[0m                                          ^\u001b[0m\n\u001b[0;31mSyntaxError\u001b[0m\u001b[0;31m:\u001b[0m invalid syntax\n"
          ]
        }
      ]
    },
    {
      "cell_type": "code",
      "metadata": {
        "id": "BkKvrk9wYQWN",
        "colab": {
          "base_uri": "https://localhost:8080/"
        },
        "outputId": "2466af08-563d-49ab-d7e1-173a6c089f07"
      },
      "source": [
        "# Visualização do resultado com f string resolução com aspas duplas para chaves dos dicionários\r\n",
        "for artilheiro in artilheiros:\r\n",
        "  print(f'ARTILHEIRO: {artilheiro[\"atleta\"][\"nome_popular\"]}, TIME: {artilheiro[\"time\"][\"nome_popular\"]}, GOLS: {str(artilheiro[\"gols\"])}\\n')"
      ],
      "execution_count": 16,
      "outputs": [
        {
          "output_type": "stream",
          "text": [
            "ARTILHEIRO: Caio Dantas, TIME: Sampaio Corrêa, GOLS: 17\n",
            "\n",
            "ARTILHEIRO: Léo Ceará, TIME: Vitória, GOLS: 16\n",
            "\n",
            "ARTILHEIRO: Anselmo Ramon, TIME: Chapecoense, GOLS: 10\n",
            "\n",
            "ARTILHEIRO: Paulo Sérgio, TIME: CSA, GOLS: 10\n",
            "\n",
            "ARTILHEIRO: Reis, TIME: Confiança, GOLS: 10\n",
            "\n"
          ],
          "name": "stdout"
        }
      ]
    },
    {
      "cell_type": "code",
      "metadata": {
        "id": "wM1vOw-I497U",
        "colab": {
          "base_uri": "https://localhost:8080/"
        },
        "outputId": "1d9698ae-7323-4b99-fed2-db405473a1f6"
      },
      "source": [
        "# Visualização do resultado com list comprehension e concatenação\r\n",
        "list_comp_artilheiros_concat = [print('\\nARTILHEIRO: '+artilheiro['atleta']['nome_popular']+', TIME: '+artilheiro['time']['nome_popular']+', GOLS: '+str(artilheiro['gols'])) for artilheiro in artilheiros]"
      ],
      "execution_count": 17,
      "outputs": [
        {
          "output_type": "stream",
          "text": [
            "\n",
            "ARTILHEIRO: Caio Dantas, TIME: Sampaio Corrêa, GOLS: 17\n",
            "\n",
            "ARTILHEIRO: Léo Ceará, TIME: Vitória, GOLS: 16\n",
            "\n",
            "ARTILHEIRO: Anselmo Ramon, TIME: Chapecoense, GOLS: 10\n",
            "\n",
            "ARTILHEIRO: Paulo Sérgio, TIME: CSA, GOLS: 10\n",
            "\n",
            "ARTILHEIRO: Reis, TIME: Confiança, GOLS: 10\n"
          ],
          "name": "stdout"
        }
      ]
    },
    {
      "cell_type": "code",
      "metadata": {
        "id": "tBoNLXGHIxb4",
        "colab": {
          "base_uri": "https://localhost:8080/"
        },
        "outputId": "942a930e-fe3f-40c6-d8f2-0cdc9f04c812"
      },
      "source": [
        "# Visualização do resultado com list comprehension e método format\r\n",
        "list_comp_artilheiros_format = [print('ARTILHEIRO: {}, TIME: {}, GOLS: {}\\n'.format(artilheiro['atleta']['nome_popular'], artilheiro['time']['nome_popular'], artilheiro['gols'])) for artilheiro in artilheiros]"
      ],
      "execution_count": 18,
      "outputs": [
        {
          "output_type": "stream",
          "text": [
            "ARTILHEIRO: Caio Dantas, TIME: Sampaio Corrêa, GOLS: 17\n",
            "\n",
            "ARTILHEIRO: Léo Ceará, TIME: Vitória, GOLS: 16\n",
            "\n",
            "ARTILHEIRO: Anselmo Ramon, TIME: Chapecoense, GOLS: 10\n",
            "\n",
            "ARTILHEIRO: Paulo Sérgio, TIME: CSA, GOLS: 10\n",
            "\n",
            "ARTILHEIRO: Reis, TIME: Confiança, GOLS: 10\n",
            "\n"
          ],
          "name": "stdout"
        }
      ]
    },
    {
      "cell_type": "code",
      "metadata": {
        "id": "nBu-x8qMbIl8",
        "colab": {
          "base_uri": "https://localhost:8080/"
        },
        "outputId": "6a63a17d-f79b-4fb7-a36d-6e8938e53d8d"
      },
      "source": [
        "# Visualização do resultado com list comprehension e f string\r\n",
        "list_comp_artilheiros_fstring = [print(f'ARTILHEIRO: {artilheiro[\"atleta\"][\"nome_popular\"]}, TIME: {artilheiro[\"time\"][\"nome_popular\"]}, GOLS: {str(artilheiro[\"gols\"])}\\n') for artilheiro in artilheiros]"
      ],
      "execution_count": 19,
      "outputs": [
        {
          "output_type": "stream",
          "text": [
            "ARTILHEIRO: Caio Dantas, TIME: Sampaio Corrêa, GOLS: 17\n",
            "\n",
            "ARTILHEIRO: Léo Ceará, TIME: Vitória, GOLS: 16\n",
            "\n",
            "ARTILHEIRO: Anselmo Ramon, TIME: Chapecoense, GOLS: 10\n",
            "\n",
            "ARTILHEIRO: Paulo Sérgio, TIME: CSA, GOLS: 10\n",
            "\n",
            "ARTILHEIRO: Reis, TIME: Confiança, GOLS: 10\n",
            "\n"
          ],
          "name": "stdout"
        }
      ]
    },
    {
      "cell_type": "code",
      "metadata": {
        "id": "nSZ9MTxjQO7k",
        "colab": {
          "base_uri": "https://localhost:8080/"
        },
        "outputId": "f9082319-f748-48f4-8ff9-707256c811ee"
      },
      "source": [
        "# Tranforma os dados em tuplas (para garantir a imutabilidade de dados históricos) e armazena o resultado em variável\r\n",
        "lista_artilheiros = []\r\n",
        "lista_times = []\r\n",
        "lista_gols = []\r\n",
        "\r\n",
        "for artilheiro in artilheiros:\r\n",
        "  lista_artilheiros.append(artilheiro['atleta']['nome_popular'])\r\n",
        "for time in artilheiros:\r\n",
        "  lista_times.append(time['time']['nome_popular'])\r\n",
        "for gol in artilheiros:\r\n",
        "  lista_gols.append(str(gol['gols']))\r\n",
        "\r\n",
        "tupla_geral = tuple(zip(lista_artilheiros, lista_times, lista_gols))\r\n",
        "\r\n",
        "print(lista_artilheiros)\r\n",
        "print(lista_times)\r\n",
        "print(lista_gols)\r\n",
        "print(tupla_geral)"
      ],
      "execution_count": 20,
      "outputs": [
        {
          "output_type": "stream",
          "text": [
            "['Caio Dantas', 'Léo Ceará', 'Anselmo Ramon', 'Paulo Sérgio', 'Reis']\n",
            "['Sampaio Corrêa', 'Vitória', 'Chapecoense', 'CSA', 'Confiança']\n",
            "['17', '16', '10', '10', '10']\n",
            "(('Caio Dantas', 'Sampaio Corrêa', '17'), ('Léo Ceará', 'Vitória', '16'), ('Anselmo Ramon', 'Chapecoense', '10'), ('Paulo Sérgio', 'CSA', '10'), ('Reis', 'Confiança', '10'))\n"
          ],
          "name": "stdout"
        }
      ]
    },
    {
      "cell_type": "code",
      "metadata": {
        "id": "2DWx2Fm3QJbH",
        "colab": {
          "base_uri": "https://localhost:8080/"
        },
        "outputId": "a2719fcb-5969-4542-f06b-c4e25b5daf06"
      },
      "source": [
        "# Visualização do resultado da tupla com concatenação de valores\r\n",
        "for dados in tupla_geral:\r\n",
        "  print('ARTILHEIRO: '+dados[0]+', TIME: '+dados[1]+', GOLS: '+dados[2]+'\\n')"
      ],
      "execution_count": 21,
      "outputs": [
        {
          "output_type": "stream",
          "text": [
            "ARTILHEIRO: Caio Dantas, TIME: Sampaio Corrêa, GOLS: 17\n",
            "\n",
            "ARTILHEIRO: Léo Ceará, TIME: Vitória, GOLS: 16\n",
            "\n",
            "ARTILHEIRO: Anselmo Ramon, TIME: Chapecoense, GOLS: 10\n",
            "\n",
            "ARTILHEIRO: Paulo Sérgio, TIME: CSA, GOLS: 10\n",
            "\n",
            "ARTILHEIRO: Reis, TIME: Confiança, GOLS: 10\n",
            "\n"
          ],
          "name": "stdout"
        }
      ]
    },
    {
      "cell_type": "code",
      "metadata": {
        "id": "bbrcep5oOeie",
        "colab": {
          "base_uri": "https://localhost:8080/"
        },
        "outputId": "2794962e-a0a1-4f48-f963-2302ed36cffd"
      },
      "source": [
        "# Visualização do resultado da tupla com format\r\n",
        "for dados in tupla_geral:\r\n",
        "  print('ARTILHEIRO: {}, TIME: {}, GOLS: {}\\n'.format(dados[0], dados[1], dados[2]))"
      ],
      "execution_count": 22,
      "outputs": [
        {
          "output_type": "stream",
          "text": [
            "ARTILHEIRO: Caio Dantas, TIME: Sampaio Corrêa, GOLS: 17\n",
            "\n",
            "ARTILHEIRO: Léo Ceará, TIME: Vitória, GOLS: 16\n",
            "\n",
            "ARTILHEIRO: Anselmo Ramon, TIME: Chapecoense, GOLS: 10\n",
            "\n",
            "ARTILHEIRO: Paulo Sérgio, TIME: CSA, GOLS: 10\n",
            "\n",
            "ARTILHEIRO: Reis, TIME: Confiança, GOLS: 10\n",
            "\n"
          ],
          "name": "stdout"
        }
      ]
    },
    {
      "cell_type": "code",
      "metadata": {
        "id": "CRLmeNm7OEmv",
        "colab": {
          "base_uri": "https://localhost:8080/"
        },
        "outputId": "554a117e-6a7e-40cc-e515-bfda083e3b92"
      },
      "source": [
        "# Visualização do resultado da tupla com f string\r\n",
        "for dados in tupla_geral:\r\n",
        "  print(f'ARTILHEIRO: {dados[0]}, TIME: {dados[1]}, GOLS: {dados[2]}\\n')"
      ],
      "execution_count": 23,
      "outputs": [
        {
          "output_type": "stream",
          "text": [
            "ARTILHEIRO: Caio Dantas, TIME: Sampaio Corrêa, GOLS: 17\n",
            "\n",
            "ARTILHEIRO: Léo Ceará, TIME: Vitória, GOLS: 16\n",
            "\n",
            "ARTILHEIRO: Anselmo Ramon, TIME: Chapecoense, GOLS: 10\n",
            "\n",
            "ARTILHEIRO: Paulo Sérgio, TIME: CSA, GOLS: 10\n",
            "\n",
            "ARTILHEIRO: Reis, TIME: Confiança, GOLS: 10\n",
            "\n"
          ],
          "name": "stdout"
        }
      ]
    },
    {
      "cell_type": "code",
      "metadata": {
        "id": "ynSBCjUmQuO9",
        "colab": {
          "base_uri": "https://localhost:8080/"
        },
        "outputId": "0497b116-fb74-427c-c20a-0873fea77e75"
      },
      "source": [
        "# Visualização do resultado da tupla com list comprehension e concatenação\r\n",
        "list_comp_concat = [print('\\nARTILHEIRO: '+dados[0]+', TIME: '+dados[1]+', GOLS: '+str(dados[2])) for dados in tupla_geral]"
      ],
      "execution_count": 24,
      "outputs": [
        {
          "output_type": "stream",
          "text": [
            "\n",
            "ARTILHEIRO: Caio Dantas, TIME: Sampaio Corrêa, GOLS: 17\n",
            "\n",
            "ARTILHEIRO: Léo Ceará, TIME: Vitória, GOLS: 16\n",
            "\n",
            "ARTILHEIRO: Anselmo Ramon, TIME: Chapecoense, GOLS: 10\n",
            "\n",
            "ARTILHEIRO: Paulo Sérgio, TIME: CSA, GOLS: 10\n",
            "\n",
            "ARTILHEIRO: Reis, TIME: Confiança, GOLS: 10\n"
          ],
          "name": "stdout"
        }
      ]
    },
    {
      "cell_type": "code",
      "metadata": {
        "id": "ofb1xF-ERRpX",
        "colab": {
          "base_uri": "https://localhost:8080/"
        },
        "outputId": "ad34f9a4-fe11-4f0b-f774-1d6da37aae38"
      },
      "source": [
        "# Visualização do resultado da tupla com list comprehension e método format\r\n",
        "list_comp_format = [print('ARTILHEIRO: {}, TIME: {}, GOLS: {}\\n'.format(dados[0], dados[1], dados[2])) for dados in tupla_geral]"
      ],
      "execution_count": 25,
      "outputs": [
        {
          "output_type": "stream",
          "text": [
            "ARTILHEIRO: Caio Dantas, TIME: Sampaio Corrêa, GOLS: 17\n",
            "\n",
            "ARTILHEIRO: Léo Ceará, TIME: Vitória, GOLS: 16\n",
            "\n",
            "ARTILHEIRO: Anselmo Ramon, TIME: Chapecoense, GOLS: 10\n",
            "\n",
            "ARTILHEIRO: Paulo Sérgio, TIME: CSA, GOLS: 10\n",
            "\n",
            "ARTILHEIRO: Reis, TIME: Confiança, GOLS: 10\n",
            "\n"
          ],
          "name": "stdout"
        }
      ]
    },
    {
      "cell_type": "code",
      "metadata": {
        "id": "tNfL5eOhkO8r",
        "colab": {
          "base_uri": "https://localhost:8080/"
        },
        "outputId": "47102c6f-7534-4cd6-ec2a-138d80045dc2"
      },
      "source": [
        "# Visualização do resultado da tupla com list comprehension e método format\r\n",
        "list_comp_format = [print(f'ARTILHEIRO: {dados[0]}, TIME: {dados[1]}, GOLS: {dados[2]}\\n') for dados in tupla_geral]"
      ],
      "execution_count": 26,
      "outputs": [
        {
          "output_type": "stream",
          "text": [
            "ARTILHEIRO: Caio Dantas, TIME: Sampaio Corrêa, GOLS: 17\n",
            "\n",
            "ARTILHEIRO: Léo Ceará, TIME: Vitória, GOLS: 16\n",
            "\n",
            "ARTILHEIRO: Anselmo Ramon, TIME: Chapecoense, GOLS: 10\n",
            "\n",
            "ARTILHEIRO: Paulo Sérgio, TIME: CSA, GOLS: 10\n",
            "\n",
            "ARTILHEIRO: Reis, TIME: Confiança, GOLS: 10\n",
            "\n"
          ],
          "name": "stdout"
        }
      ]
    },
    {
      "cell_type": "code",
      "metadata": {
        "colab": {
          "base_uri": "https://localhost:8080/"
        },
        "id": "Yz8W_Auy57If",
        "outputId": "34fbb4f6-6365-415e-cf93-c1c862f3d2be"
      },
      "source": [
        "# Visualização do resultado da tupla com criação de arquivo caso não exista ou apenas impressão do resultado caso exista\r\n",
        "try:\r\n",
        "  nome_arquivo = input('Entre com o nome do arquivo: ')\r\n",
        "  data = open(f'/content/{nome_arquivo}', 'r+')\r\n",
        "  print(data.read())\r\n",
        "except FileNotFoundError:\r\n",
        "  arquivo = open(nome_arquivo, 'x+')\r\n",
        "  for dados in tupla_geral:\r\n",
        "    arquivo.writelines(f'\\nARTILHEIRO: {dados[0]}, TIME: {dados[1]}, GOLS: {dados[2]}\\n')\r\n",
        "  arquivo.close()\r\n",
        "  data_final = open('/content/{}'.format(nome_arquivo), 'r+')\r\n",
        "  print(data_final.read())"
      ],
      "execution_count": 27,
      "outputs": [
        {
          "output_type": "stream",
          "text": [
            "Entre com o nome do arquivo: resultado_final\n",
            "\n",
            "ARTILHEIRO: Caio Dantas, TIME: Sampaio Corrêa, GOLS: 17\n",
            "\n",
            "ARTILHEIRO: Léo Ceará, TIME: Vitória, GOLS: 16\n",
            "\n",
            "ARTILHEIRO: Anselmo Ramon, TIME: Chapecoense, GOLS: 10\n",
            "\n",
            "ARTILHEIRO: Paulo Sérgio, TIME: CSA, GOLS: 10\n",
            "\n",
            "ARTILHEIRO: Reis, TIME: Confiança, GOLS: 10\n",
            "\n"
          ],
          "name": "stdout"
        }
      ]
    }
  ]
}
